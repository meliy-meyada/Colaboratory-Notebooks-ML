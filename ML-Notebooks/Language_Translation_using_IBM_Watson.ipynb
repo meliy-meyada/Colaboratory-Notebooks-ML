{
  "nbformat": 4,
  "nbformat_minor": 0,
  "metadata": {
    "colab": {
      "provenance": []
    },
    "kernelspec": {
      "name": "python3",
      "display_name": "Python 3"
    },
    "language_info": {
      "name": "python"
    },
    "accelerator": "GPU",
    "gpuClass": "standard"
  },
  "cells": [
    {
      "cell_type": "code",
      "execution_count": 1,
      "metadata": {
        "colab": {
          "base_uri": "https://localhost:8080/"
        },
        "id": "bJ_hNLM9Wl7z",
        "outputId": "46c987e1-55f2-49ce-b97d-cfb2680f5989"
      },
      "outputs": [
        {
          "output_type": "stream",
          "name": "stdout",
          "text": [
            "Looking in indexes: https://pypi.org/simple, https://us-python.pkg.dev/colab-wheels/public/simple/\n",
            "Collecting ibm_watson\n",
            "  Downloading ibm-watson-6.1.0.tar.gz (373 kB)\n",
            "\u001b[K     |████████████████████████████████| 373 kB 33.5 MB/s \n",
            "\u001b[?25h  Installing build dependencies ... \u001b[?25l\u001b[?25hdone\n",
            "  Getting requirements to build wheel ... \u001b[?25l\u001b[?25hdone\n",
            "    Preparing wheel metadata ... \u001b[?25l\u001b[?25hdone\n",
            "Requirement already satisfied: requests<3.0,>=2.0 in /usr/local/lib/python3.8/dist-packages (from ibm_watson) (2.23.0)\n",
            "Collecting ibm-cloud-sdk-core==3.*,>=3.3.6\n",
            "  Downloading ibm_cloud_sdk_core-3.16.0-py3-none-any.whl (83 kB)\n",
            "\u001b[K     |████████████████████████████████| 83 kB 2.7 MB/s \n",
            "\u001b[?25hCollecting websocket-client==1.1.0\n",
            "  Downloading websocket_client-1.1.0-py2.py3-none-any.whl (68 kB)\n",
            "\u001b[K     |████████████████████████████████| 68 kB 8.0 MB/s \n",
            "\u001b[?25hRequirement already satisfied: python-dateutil>=2.5.3 in /usr/local/lib/python3.8/dist-packages (from ibm_watson) (2.8.2)\n",
            "Collecting requests<3.0,>=2.0\n",
            "  Downloading requests-2.28.1-py3-none-any.whl (62 kB)\n",
            "\u001b[K     |████████████████████████████████| 62 kB 1.8 MB/s \n",
            "\u001b[?25hCollecting PyJWT<3.0.0,>=2.4.0\n",
            "  Downloading PyJWT-2.6.0-py3-none-any.whl (20 kB)\n",
            "Collecting urllib3<2.0.0,>=1.26.0\n",
            "  Downloading urllib3-1.26.13-py2.py3-none-any.whl (140 kB)\n",
            "\u001b[K     |████████████████████████████████| 140 kB 77.2 MB/s \n",
            "\u001b[?25hRequirement already satisfied: six>=1.5 in /usr/local/lib/python3.8/dist-packages (from python-dateutil>=2.5.3->ibm_watson) (1.15.0)\n",
            "Requirement already satisfied: idna<4,>=2.5 in /usr/local/lib/python3.8/dist-packages (from requests<3.0,>=2.0->ibm_watson) (2.10)\n",
            "Requirement already satisfied: charset-normalizer<3,>=2 in /usr/local/lib/python3.8/dist-packages (from requests<3.0,>=2.0->ibm_watson) (2.1.1)\n",
            "Requirement already satisfied: certifi>=2017.4.17 in /usr/local/lib/python3.8/dist-packages (from requests<3.0,>=2.0->ibm_watson) (2022.9.24)\n",
            "Building wheels for collected packages: ibm-watson\n",
            "  Building wheel for ibm-watson (PEP 517) ... \u001b[?25l\u001b[?25hdone\n",
            "  Created wheel for ibm-watson: filename=ibm_watson-6.1.0-py3-none-any.whl size=370764 sha256=0ec8e7fbd9778a572302fb5657fff222aa9b4e051a1db803abdd662636fbd018\n",
            "  Stored in directory: /root/.cache/pip/wheels/34/b4/cd/829a351c802b7a578115fe7ddaedff62b29eae84e90882c7e2\n",
            "Successfully built ibm-watson\n",
            "Installing collected packages: urllib3, requests, PyJWT, websocket-client, ibm-cloud-sdk-core, ibm-watson\n",
            "  Attempting uninstall: urllib3\n",
            "    Found existing installation: urllib3 1.24.3\n",
            "    Uninstalling urllib3-1.24.3:\n",
            "      Successfully uninstalled urllib3-1.24.3\n",
            "  Attempting uninstall: requests\n",
            "    Found existing installation: requests 2.23.0\n",
            "    Uninstalling requests-2.23.0:\n",
            "      Successfully uninstalled requests-2.23.0\n",
            "Successfully installed PyJWT-2.6.0 ibm-cloud-sdk-core-3.16.0 ibm-watson-6.1.0 requests-2.28.1 urllib3-1.26.13 websocket-client-1.1.0\n"
          ]
        }
      ],
      "source": [
        "!pip install ibm_watson"
      ]
    },
    {
      "cell_type": "markdown",
      "source": [
        "### Workflow\n",
        "\n",
        "\n",
        "**เราจะบันทึกข้อความใน `python` จากนั้นเราจะส่งข้อมูลนี้ไปยังคลาวด์ `IBM` ซึ่งข้อความจะถูกแปลงเป็นภาษาที่เราต้องการ และเราจะแปลง `ข้อความที่แปลแล้ว' เป็นคำพูด โดยใช้ `Watson AI` จากนั้นเราจะส่งออกไฟล์**"
      ],
      "metadata": {
        "id": "3QUTQxUDXdxR"
      }
    },
    {
      "cell_type": "markdown",
      "source": [
        "**ในการตั้งค่า ให้ไปที่ `cloud.ibm.com` จากนั้นไปที่ตัวเลือก 'หมวดหมู่' เลือกหมวดหมู่ 'การเรียนรู้ของเครื่องและ AI' จากนั้นเลือกหมวดหมู่ 'นักแปลภาษา' ใหม่ หน้าต่างป๊อปอัปตามค่าเริ่มต้น เวอร์ชัน `lite` จะถูกเลือกและไม่เป็นไร เนื่องจากเป็นเวอร์ชันฟรีและเราจะใช้สิ่งนั้น คลิกที่ `create` และบริการจะถูกสร้างขึ้นให้เรา จากนั้นเราจะได้รับ คีย์ `API` ดังนั้นเราจะใช้คีย์ `API` เพื่อทำสิ่งต่างๆ ต่อไป**"
      ],
      "metadata": {
        "id": "IVcokvfbXvkB"
      }
    },
    {
      "cell_type": "markdown",
      "source": [
        "## 1. Authenticate"
      ],
      "metadata": {
        "id": "FSI_jmT_X1cH"
      }
    },
    {
      "cell_type": "code",
      "source": [
        "API_key = ''<Enter your API KEY>'\n",
        "url = ''<Enter your API URL>'"
      ],
      "metadata": {
        "id": "vXuMthtzXzca"
      },
      "execution_count": 4,
      "outputs": []
    },
    {
      "cell_type": "code",
      "source": [
        "## importing dependancies\n",
        "\n",
        "## this is the language translator\n",
        "\n",
        "from ibm_watson import LanguageTranslatorV3\n",
        "\n",
        "# this is the authentication service\n",
        "\n",
        "from ibm_cloud_sdk_core.authenticators import IAMAuthenticator"
      ],
      "metadata": {
        "id": "CnUwYDeTW6vO"
      },
      "execution_count": 5,
      "outputs": []
    },
    {
      "cell_type": "code",
      "source": [
        "# autheniticating the API key\n",
        "\n",
        "authenticator = IAMAuthenticator(apikey=API_key)\n",
        "\n",
        "# setting our language translator object\n",
        "\n",
        "langtranslator = LanguageTranslatorV3(version='2021-05-19',\n",
        "                                     authenticator=authenticator)\n",
        "\n",
        "# establishing the connection with the service\n",
        "\n",
        "langtranslator.set_service_url(url)"
      ],
      "metadata": {
        "id": "kQ58gHbtW6xf"
      },
      "execution_count": 6,
      "outputs": []
    },
    {
      "cell_type": "markdown",
      "source": [
        "## 2.Translate"
      ],
      "metadata": {
        "id": "jvaA96ZoYf9I"
      }
    },
    {
      "cell_type": "markdown",
      "source": [
        "**ตอนนี้เราต้องอ้างถึงเอกสารประกอบ `Language Translator` เนื่องจากมีภาษาจำนวนมากและเราจำเป็นต้องระบุว่าเราต้องการแปลข้อความเป็นภาษาใด เพื่อให้สามารถอ้างอิงได้ <a href = \" https://cloud.ibm.com/docs/language-translator?topic=language-translator-translation-models\">ที่นี่</a> ตัวอย่างเช่น หากเราต้องการแปลข้อความจาก `english-thai` ที่เราใช้ บริการ \"en-th\" โดยที่ \"en\" หมายถึง \"ภาษาอังกฤษ\" และ \"th\" หมายถึง \"ไทย\" ดังนั้นเราจึงตั้งค่า \"model_id\" ของเรา \"แปลจากโค้ด - แปลเป็นโค้ด\" นี่คือรายการ ของภาษาที่คุณสามารถแปลจากภาษาหนึ่งไปยังอีกภาษาหนึ่งได้ เพียงแค่เราต้องตั้งรหัสตรงนั้น ดังรูป ↓ กรณีภาษาอังกฤษ-ไทย รหัสคือ `en-th` เหมือนกับการตั้งรหัสเป็น ตามข้อกำหนด**"
      ],
      "metadata": {
        "id": "Nmg269nJYoaV"
      }
    },
    {
      "cell_type": "markdown",
      "source": [
        "<table>\n",
        "            <caption>Table 1. Translatable languages</caption>\n",
        "            <thead>\n",
        "              <tr class=\"doc-tr-even\">\n",
        "                <th>Language</th>\n",
        "                <th style=\"text-align:center\">Language code</th>\n",
        "                <th>Language</th>\n",
        "                <th style=\"text-align:center\">Language code</th>\n",
        "              </tr>\n",
        "            </thead>\n",
        "            <tbody>\n",
        "              <tr class=\"doc-tr-odd\">\n",
        "                <td><a href=\"#arabic\">Arabic</a></td>\n",
        "                <td style=\"text-align:center\"><code>ar</code></td>\n",
        "                <td><a href=\"#korean\">Korean</a></td>\n",
        "                <td style=\"text-align:center\"><code>ko</code></td>\n",
        "              </tr>\n",
        "              <tr class=\"doc-tr-even\">\n",
        "                <td><a href=\"#basque\">Basque</a> <strong>[1]</strong></td>\n",
        "                <td style=\"text-align:center\"><code>eu</code></td>\n",
        "                <td><a href=\"#latvian\">Latvian</a></td>\n",
        "                <td style=\"text-align:center\"><code>lv</code></td>\n",
        "              </tr>\n",
        "              <tr class=\"doc-tr-odd\">\n",
        "                <td><a href=\"#bengali\">Bengali</a></td>\n",
        "                <td style=\"text-align:center\"><code>bn</code></td>\n",
        "                <td><a href=\"#lithuanian\">Lithuanian</a></td>\n",
        "                <td style=\"text-align:center\"><code>lt</code></td>\n",
        "              </tr>\n",
        "              <tr class=\"doc-tr-even\">\n",
        "                <td><a href=\"#bosnian\">Bosnian</a></td>\n",
        "                <td style=\"text-align:center\"><code>bs</code></td>\n",
        "                <td><a href=\"#malay\">Malay</a></td>\n",
        "                <td style=\"text-align:center\"><code>ms</code></td>\n",
        "              </tr>\n",
        "              <tr class=\"doc-tr-odd\">\n",
        "                <td><a href=\"#bulgarian\">Bulgarian</a></td>\n",
        "                <td style=\"text-align:center\"><code>bg</code></td>\n",
        "                <td><a href=\"#malayalam\">Malayalam</a></td>\n",
        "                <td style=\"text-align:center\"><code>ml</code></td>\n",
        "              </tr>\n",
        "              <tr class=\"doc-tr-even\">\n",
        "                <td><a href=\"#catalan\">Catalan</a> <strong>[1]</strong></td>\n",
        "                <td style=\"text-align:center\"><code>ca</code></td>\n",
        "                <td><a href=\"#maltese\">Maltese</a></td>\n",
        "                <td style=\"text-align:center\"><code>mt</code></td>\n",
        "              </tr>\n",
        "              <tr class=\"doc-tr-odd\">\n",
        "                <td><a href=\"#chinese-simplified\">Chinese (Simplified)</a></td>\n",
        "                <td style=\"text-align:center\"><code>zh</code></td>\n",
        "                <td><a href=\"#montenegrin\">Montenegrin</a> <strong>[2]</strong></td>\n",
        "                <td style=\"text-align:center\"><code>cnr</code></td>\n",
        "              </tr>\n",
        "              <tr class=\"doc-tr-even\">\n",
        "                <td><a href=\"#chinese-traditional\">Chinese (Traditional)</a></td>\n",
        "                <td style=\"text-align:center\"><code>zh-TW</code></td>\n",
        "                <td><a href=\"#nepali\">Nepali</a></td>\n",
        "                <td style=\"text-align:center\"><code>ne</code></td>\n",
        "              </tr>\n",
        "              <tr class=\"doc-tr-odd\">\n",
        "                <td><a href=\"#croatian\">Croatian</a></td>\n",
        "                <td style=\"text-align:center\"><code>hr</code></td>\n",
        "                <td><a href=\"#norwegian-bokmal\">Norwegian Bokmål</a></td>\n",
        "                <td style=\"text-align:center\"><code>nb</code></td>\n",
        "              </tr>\n",
        "              <tr class=\"doc-tr-even\">\n",
        "                <td><a href=\"#czech\">Czech</a></td>\n",
        "                <td style=\"text-align:center\"><code>cs</code></td>\n",
        "                <td><a href=\"#polish\">Polish</a></td>\n",
        "                <td style=\"text-align:center\"><code>pl</code></td>\n",
        "              </tr>\n",
        "              <tr class=\"doc-tr-odd\">\n",
        "                <td><a href=\"#danish\">Danish</a></td>\n",
        "                <td style=\"text-align:center\"><code>da</code></td>\n",
        "                <td><a href=\"#portuguese\">Portuguese</a></td>\n",
        "                <td style=\"text-align:center\"><code>pt</code></td>\n",
        "              </tr>\n",
        "              <tr class=\"doc-tr-even\">\n",
        "                <td><a href=\"#dutch\">Dutch</a></td>\n",
        "                <td style=\"text-align:center\"><code>nl</code></td>\n",
        "                <td><a href=\"#romanian\">Romanian</a></td>\n",
        "                <td style=\"text-align:center\"><code>ro</code></td>\n",
        "              </tr>\n",
        "              <tr class=\"doc-tr-odd\">\n",
        "                <td><a href=\"#english\">English</a></td>\n",
        "                <td style=\"text-align:center\"><code>en</code></td>\n",
        "                <td><a href=\"#russian\">Russian</a></td>\n",
        "                <td style=\"text-align:center\"><code>ru</code></td>\n",
        "              </tr>\n",
        "              <tr class=\"doc-tr-even\">\n",
        "                <td><a href=\"#estonian\">Estonian</a></td>\n",
        "                <td style=\"text-align:center\"><code>et</code></td>\n",
        "                <td><a href=\"#serbian\">Serbian</a> <strong>[3]</strong></td>\n",
        "                <td style=\"text-align:center\"><code>sr</code></td>\n",
        "              </tr>\n",
        "              <tr class=\"doc-tr-odd\">\n",
        "                <td><a href=\"#finnish\">Finnish</a></td>\n",
        "                <td style=\"text-align:center\"><code>fi</code></td>\n",
        "                <td><a href=\"#sinhala\">Sinhala</a></td>\n",
        "                <td style=\"text-align:center\"><code>si</code></td>\n",
        "              </tr>\n",
        "              <tr class=\"doc-tr-even\">\n",
        "                <td><a href=\"#french\">French</a></td>\n",
        "                <td style=\"text-align:center\"><code>fr</code></td>\n",
        "                <td><a href=\"#slovak\">Slovak</a></td>\n",
        "                <td style=\"text-align:center\"><code>sk</code></td>\n",
        "              </tr>\n",
        "              <tr class=\"doc-tr-odd\">\n",
        "                <td><a href=\"#french-canadian\">French (Canadian)</a></td>\n",
        "                <td style=\"text-align:center\"><code>fr</code></td>\n",
        "                <td><a href=\"#slovenian\">Slovenian</a></td>\n",
        "                <td style=\"text-align:center\"><code>sl</code></td>\n",
        "              </tr>\n",
        "              <tr class=\"doc-tr-even\">\n",
        "                <td><a href=\"#german\">German</a></td>\n",
        "                <td style=\"text-align:center\"><code>de</code></td>\n",
        "                <td><a href=\"#spanish\">Spanish</a></td>\n",
        "                <td style=\"text-align:center\"><code>es</code></td>\n",
        "              </tr>\n",
        "              <tr class=\"doc-tr-odd\">\n",
        "                <td><a href=\"#greek\">Greek</a></td>\n",
        "                <td style=\"text-align:center\"><code>el</code></td>\n",
        "                <td><a href=\"#swedish\">Swedish</a></td>\n",
        "                <td style=\"text-align:center\"><code>sv</code></td>\n",
        "              </tr>\n",
        "              <tr class=\"doc-tr-even\">\n",
        "                <td><a href=\"#gujarati\">Gujarati</a></td>\n",
        "                <td style=\"text-align:center\"><code>gu</code></td>\n",
        "                <td><a href=\"#tamil\">Tamil</a></td>\n",
        "                <td style=\"text-align:center\"><code>ta</code></td>\n",
        "              </tr>\n",
        "              <tr class=\"doc-tr-odd\">\n",
        "                <td><a href=\"#hebrew\">Hebrew</a></td>\n",
        "                <td style=\"text-align:center\"><code>he</code></td>\n",
        "                <td><a href=\"#telugu\">Telugu</a></td>\n",
        "                <td style=\"text-align:center\"><code>te</code></td>\n",
        "              </tr>\n",
        "              <tr class=\"doc-tr-even\">\n",
        "                <td><a href=\"#hindi\">Hindi</a></td>\n",
        "                <td style=\"text-align:center\"><code>hi</code></td>\n",
        "                <td><a href=\"#thai\">Thai</a></td>\n",
        "                <td style=\"text-align:center\"><code>th</code></td>\n",
        "              </tr>\n",
        "              <tr class=\"doc-tr-odd\">\n",
        "                <td><a href=\"#hungarian\">Hungarian</a></td>\n",
        "                <td style=\"text-align:center\"><code>hu</code></td>\n",
        "                <td><a href=\"#turkish\">Turkish</a></td>\n",
        "                <td style=\"text-align:center\"><code>tr</code></td>\n",
        "              </tr>\n",
        "              <tr class=\"doc-tr-even\">\n",
        "                <td><a href=\"#irish\">Irish</a></td>\n",
        "                <td style=\"text-align:center\"><code>ga</code></td>\n",
        "                <td><a href=\"#ukrainian\">Ukrainian</a></td>\n",
        "                <td style=\"text-align:center\"><code>uk</code></td>\n",
        "              </tr>\n",
        "              <tr class=\"doc-tr-odd\">\n",
        "                <td><a href=\"#indonesian\">Indonesian</a></td>\n",
        "                <td style=\"text-align:center\"><code>id</code></td>\n",
        "                <td><a href=\"#urdu\">Urdu</a></td>\n",
        "                <td style=\"text-align:center\"><code>ur</code></td>\n",
        "              </tr>\n",
        "              <tr class=\"doc-tr-even\">\n",
        "                <td><a href=\"#italian\">Italian</a></td>\n",
        "                <td style=\"text-align:center\"><code>it</code></td>\n",
        "                <td><a href=\"#vietnamese\">Vietnamese</a></td>\n",
        "                <td style=\"text-align:center\"><code>vi</code></td>\n",
        "              </tr>\n",
        "              <tr class=\"doc-tr-odd\">\n",
        "                <td><a href=\"#japanese\">Japanese</a></td>\n",
        "                <td style=\"text-align:center\"><code>ja</code></td>\n",
        "                <td><a href=\"#welsh\">Welsh</a></td>\n",
        "                <td style=\"text-align:center\"><code>cy</code></td>\n",
        "              </tr>\n",
        "            </tbody>\n",
        "          </table>\n",
        "\n"
      ],
      "metadata": {
        "id": "6EcV5vSBZA2d"
      }
    },
    {
      "cell_type": "code",
      "source": [
        "translation = langtranslator.translate(text='Hello World',model_id='en-th')"
      ],
      "metadata": {
        "id": "5jFLaqLBW6z3"
      },
      "execution_count": 8,
      "outputs": []
    },
    {
      "cell_type": "code",
      "source": [
        "translation.get_result()"
      ],
      "metadata": {
        "colab": {
          "base_uri": "https://localhost:8080/"
        },
        "id": "8COi96qSW62W",
        "outputId": "5a89da39-ac64-4f13-8ab0-b33df42c36a9"
      },
      "execution_count": 9,
      "outputs": [
        {
          "output_type": "execute_result",
          "data": {
            "text/plain": [
              "{'translations': [{'translation': 'Hello World'}],\n",
              " 'word_count': 2,\n",
              " 'character_count': 11}"
            ]
          },
          "metadata": {},
          "execution_count": 9
        }
      ]
    },
    {
      "cell_type": "code",
      "source": [
        "## trying for bigger text\n",
        "\n",
        "text = 'According to consensus in modern genetics anatomically modern humans first arrived on the Indian subcontinent from Africa between 73,000 and 55,000 years ago.[1] However, the earliest known human remains in South Asia date to 30,000 years ago. Settled life, which involves the transition from foraging to farming and pastoralism, began in South Asia around 7,000 BCE. At the site of Mehrgarh presence can be documented of the domestication of wheat and barley, rapidly followed by that of goats, sheep, and cattle.[2] By 4,500 BCE, settled life had spread more widely,[2] and began to gradually evolve into the Indus Valley Civilization, an early civilization of the Old world, which was contemporaneous with Ancient Egypt and Mesopotamia. This civilisation flourished between 2,500 BCE and 1900 BCE in what today is Pakistan and north-western India, and was noted for its urban planning, baked brick houses, elaborate drainage, and water supply.[3]'\n",
        "\n",
        "translation = langtranslator.translate(text=text,model_id='en-th')\n",
        "\n",
        "translation.get_result()"
      ],
      "metadata": {
        "colab": {
          "base_uri": "https://localhost:8080/"
        },
        "id": "7pqjEuR8Z4JE",
        "outputId": "716614b4-9fed-4c71-ab59-488c0fbe6f28"
      },
      "execution_count": 10,
      "outputs": [
        {
          "output_type": "execute_result",
          "data": {
            "text/plain": [
              "{'translations': [{'translation': 'ตามฉันทามติในด้านพันธุศาสตร์มนุษย์สมัยใหม่แรกเริ่มนั้นมาถึงอนุทวีปอินเดียจากแอฟริการะหว่าง 73,000 ถึง 55,000 ปีมาแล้ว [1] อย่างไรก็ตามมนุษย์ที่รู้จักกันดีที่สุดในเอเชียใต้ถึง 30,000 ปีมาแล้วถึงสามหมื่นปีก่อน (ตั้งถิ่นฐานชีวิต) ซึ่งเกี่ยวข้องกับการเปลี่ยนจากการหาอาหารและการเพาะปลูกเริ่มในเอเชียใต้ (South Asia) ประมาณ 7,000 BCE ที่บริเวณของเมห์การห์สามารถเป็นเอกสารเกี่ยวกับการปลูกข้าวสาลีและข้าวบาร์เลย์อย่างรวดเร็วตามด้วยการที่ของแพะแกะและวัว[2] โดย 4,500 BCE ตั้งถิ่นฐานชีวิตได้แพร่กระจายมากขึ้น [2] และเริ่มที่จะค่อยๆพัฒนาไปในอารยธรรม Indus Valley อารยธรรมดั้งเดิมของโลกเก่าซึ่งถูก con temporary กับอียิปต์โบราณและเมโสโปเตเมียและอารยธรรมลุ่มแม่น้ำสายนี้มีลักษณะคล้ายกับของอารยธรรมลุ่มแม่น้ำโขง, อารยธรรมนี้รุ่งเรืองระหว่าง 2,500 BCE และ 1900 BCE ในสิ่งที่วันนี้คือปากีสถานและตะวันตกเฉียงเหนือของอินเดียและได้รับการบันทึกสำหรับการวางแผนในเมืองของมันบ้านอิฐที่ซับซ้อนการระบายน้ำอย่างละเอียดและแหล่งน้ำ.[3]'}],\n",
              " 'word_count': 179,\n",
              " 'character_count': 949}"
            ]
          },
          "metadata": {},
          "execution_count": 10
        }
      ]
    },
    {
      "cell_type": "markdown",
      "source": [
        "**แอปพลิเคชั่นที่ยอดเยี่ยมนี้บอกว่าคุณมีหน้าเว็บและคนในท้องถิ่นไม่สามารถเข้าใจภาษาอังกฤษได้ พวกเขาเข้าใจได้เฉพาะภาษาท้องถิ่น ดังนั้นให้สร้างปุ่มชื่อแปลบนหน้าเว็บแล้วแสดงภาษาอังกฤษทั้งหมด เนื้อหาของหน้าเว็บไปยังโมเดลแบ็กเอนด์ จากนั้นโมเดลที่แบ็กเอนด์จะแปลข้อความ และเราสามารถแสดงข้อความนี้ในเทมเพลตซึ่งเป็นข้อความที่แปลได้**"
      ],
      "metadata": {
        "id": "uRFuS-_faGWB"
      }
    },
    {
      "cell_type": "code",
      "source": [
        "translation.get_result()['translations'][0]['translation']"
      ],
      "metadata": {
        "colab": {
          "base_uri": "https://localhost:8080/",
          "height": 182
        },
        "id": "MXWSyOIkZ9Pu",
        "outputId": "ed235b2c-b959-4da3-8f85-2d83fc169cbd"
      },
      "execution_count": 11,
      "outputs": [
        {
          "output_type": "execute_result",
          "data": {
            "text/plain": [
              "'ตามฉันทามติในด้านพันธุศาสตร์มนุษย์สมัยใหม่แรกเริ่มนั้นมาถึงอนุทวีปอินเดียจากแอฟริการะหว่าง 73,000 ถึง 55,000 ปีมาแล้ว [1] อย่างไรก็ตามมนุษย์ที่รู้จักกันดีที่สุดในเอเชียใต้ถึง 30,000 ปีมาแล้วถึงสามหมื่นปีก่อน (ตั้งถิ่นฐานชีวิต) ซึ่งเกี่ยวข้องกับการเปลี่ยนจากการหาอาหารและการเพาะปลูกเริ่มในเอเชียใต้ (South Asia) ประมาณ 7,000 BCE ที่บริเวณของเมห์การห์สามารถเป็นเอกสารเกี่ยวกับการปลูกข้าวสาลีและข้าวบาร์เลย์อย่างรวดเร็วตามด้วยการที่ของแพะแกะและวัว[2] โดย 4,500 BCE ตั้งถิ่นฐานชีวิตได้แพร่กระจายมากขึ้น [2] และเริ่มที่จะค่อยๆพัฒนาไปในอารยธรรม Indus Valley อารยธรรมดั้งเดิมของโลกเก่าซึ่งถูก con temporary กับอียิปต์โบราณและเมโสโปเตเมียและอารยธรรมลุ่มแม่น้ำสายนี้มีลักษณะคล้ายกับของอารยธรรมลุ่มแม่น้ำโขง, อารยธรรมนี้รุ่งเรืองระหว่าง 2,500 BCE และ 1900 BCE ในสิ่งที่วันนี้คือปากีสถานและตะวันตกเฉียงเหนือของอินเดียและได้รับการบันทึกสำหรับการวางแผนในเมืองของมันบ้านอิฐที่ซับซ้อนการระบายน้ำอย่างละเอียดและแหล่งน้ำ.[3]'"
            ],
            "application/vnd.google.colaboratory.intrinsic+json": {
              "type": "string"
            }
          },
          "metadata": {},
          "execution_count": 11
        }
      ]
    },
    {
      "cell_type": "code",
      "source": [],
      "metadata": {
        "id": "9nSI4TKSaI0P"
      },
      "execution_count": null,
      "outputs": []
    }
  ]
}